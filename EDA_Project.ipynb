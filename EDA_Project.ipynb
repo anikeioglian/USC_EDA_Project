{
  "nbformat": 4,
  "nbformat_minor": 0,
  "metadata": {
    "colab": {
      "name": "EDA_Project.ipynb",
      "provenance": []
    },
    "kernelspec": {
      "name": "python3",
      "display_name": "Python 3"
    }
  },
  "cells": [
    {
      "cell_type": "code",
      "metadata": {
        "id": "_eQxIqMYqbRP"
      },
      "source": [
        "import pandas as pd\n",
        "import numpy as np\n",
        "import matplotlib.pyplot as plt\n",
        "# Link to dataset: https://www.kaggle.com/jealousleopard/goodreadsbooks\n",
        "    # Citation: Soumik. “Goodreads-Books.” Kaggle, www.kaggle.com/jealousleopard/goodreadsbooks. \n",
        "# Questions:\n",
        "  # 1. What books are the most highly rated from all time?\n",
        "  # 2. What authors have the most overall ratings?\n",
        "  # 3. Which publishers have published the most books?\n",
        "  # 4. Which year has the most books published?"
      ],
      "execution_count": 177,
      "outputs": []
    },
    {
      "cell_type": "code",
      "metadata": {
        "id": "kjzGy1k_Nbg9"
      },
      "source": [
        "# Hypothesis to questions above\n",
        "#1 I will base this hypotheses on my prior knowledge of books. Personally, I think one of the books from Harry Potter will have the highest ratings count and average rating, which implies greater popularity. \n",
        "#  Most likely, I think it will be the first book, \"Harry Potter and the Sorcerer's Stone\" by J.K. Rowling since most people would read that book first (even if they don't finish the series).\n",
        "\n",
        "#2 Since I think Harry Potter will be the most highly rated, I think that J.K. Rowling will have the most overall ratings, despite any hate or controversy surrounding her.\n",
        "\n",
        "#3. As to which publisher would publish the most popular books, I would say Scholastic Inc. since they partly published Harry Potter (my initial guess is that these books will be the most popular)\n",
        "# and since they publish a large amount of other childrens books.\n",
        "\n",
        "#4 I personally have no idea when the most books have published. I am assuming there would be more books published before people were introduced to social media. Thus, I will guess early 2000s."
      ],
      "execution_count": 178,
      "outputs": []
    },
    {
      "cell_type": "code",
      "metadata": {
        "colab": {
          "base_uri": "https://localhost:8080/",
          "height": 374
        },
        "id": "ugZEYYpk2eMM",
        "outputId": "efa67d35-c3b2-4cf0-db64-b74a9979f3c0"
      },
      "source": [
        "df = pd.read_csv('goodreads_books_ratings.csv')\n",
        "df.head()"
      ],
      "execution_count": 179,
      "outputs": [
        {
          "output_type": "execute_result",
          "data": {
            "text/html": [
              "<div>\n",
              "<style scoped>\n",
              "    .dataframe tbody tr th:only-of-type {\n",
              "        vertical-align: middle;\n",
              "    }\n",
              "\n",
              "    .dataframe tbody tr th {\n",
              "        vertical-align: top;\n",
              "    }\n",
              "\n",
              "    .dataframe thead th {\n",
              "        text-align: right;\n",
              "    }\n",
              "</style>\n",
              "<table border=\"1\" class=\"dataframe\">\n",
              "  <thead>\n",
              "    <tr style=\"text-align: right;\">\n",
              "      <th></th>\n",
              "      <th>bookID</th>\n",
              "      <th>title</th>\n",
              "      <th>authors</th>\n",
              "      <th>average_rating</th>\n",
              "      <th>isbn</th>\n",
              "      <th>isbn13</th>\n",
              "      <th>language_code</th>\n",
              "      <th>num_pages</th>\n",
              "      <th>ratings_count</th>\n",
              "      <th>text_reviews_count</th>\n",
              "      <th>publication_date</th>\n",
              "      <th>publisher</th>\n",
              "      <th>Unnamed: 12</th>\n",
              "    </tr>\n",
              "  </thead>\n",
              "  <tbody>\n",
              "    <tr>\n",
              "      <th>0</th>\n",
              "      <td>1</td>\n",
              "      <td>Harry Potter and the Half-Blood Prince (Harry ...</td>\n",
              "      <td>J.K. Rowling/Mary GrandPré</td>\n",
              "      <td>4.57</td>\n",
              "      <td>439785960</td>\n",
              "      <td>9780439785969</td>\n",
              "      <td>eng</td>\n",
              "      <td>652</td>\n",
              "      <td>2095690</td>\n",
              "      <td>27591</td>\n",
              "      <td>9/16/2006</td>\n",
              "      <td>Scholastic Inc.</td>\n",
              "      <td>NaN</td>\n",
              "    </tr>\n",
              "    <tr>\n",
              "      <th>1</th>\n",
              "      <td>2</td>\n",
              "      <td>Harry Potter and the Order of the Phoenix (Har...</td>\n",
              "      <td>J.K. Rowling/Mary GrandPré</td>\n",
              "      <td>4.49</td>\n",
              "      <td>439358078</td>\n",
              "      <td>9780439358071</td>\n",
              "      <td>eng</td>\n",
              "      <td>870</td>\n",
              "      <td>2153167</td>\n",
              "      <td>29221</td>\n",
              "      <td>9/1/2004</td>\n",
              "      <td>Scholastic Inc.</td>\n",
              "      <td>NaN</td>\n",
              "    </tr>\n",
              "    <tr>\n",
              "      <th>2</th>\n",
              "      <td>4</td>\n",
              "      <td>Harry Potter and the Chamber of Secrets (Harry...</td>\n",
              "      <td>J.K. Rowling</td>\n",
              "      <td>4.42</td>\n",
              "      <td>439554896</td>\n",
              "      <td>9780439554893</td>\n",
              "      <td>eng</td>\n",
              "      <td>352</td>\n",
              "      <td>6333</td>\n",
              "      <td>244</td>\n",
              "      <td>11/1/2003</td>\n",
              "      <td>Scholastic</td>\n",
              "      <td>NaN</td>\n",
              "    </tr>\n",
              "    <tr>\n",
              "      <th>3</th>\n",
              "      <td>5</td>\n",
              "      <td>Harry Potter and the Prisoner of Azkaban (Harr...</td>\n",
              "      <td>J.K. Rowling/Mary GrandPré</td>\n",
              "      <td>4.56</td>\n",
              "      <td>043965548X</td>\n",
              "      <td>9780439655484</td>\n",
              "      <td>eng</td>\n",
              "      <td>435</td>\n",
              "      <td>2339585</td>\n",
              "      <td>36325</td>\n",
              "      <td>5/1/2004</td>\n",
              "      <td>Scholastic Inc.</td>\n",
              "      <td>NaN</td>\n",
              "    </tr>\n",
              "    <tr>\n",
              "      <th>4</th>\n",
              "      <td>8</td>\n",
              "      <td>Harry Potter Boxed Set  Books 1-5 (Harry Potte...</td>\n",
              "      <td>J.K. Rowling/Mary GrandPré</td>\n",
              "      <td>4.78</td>\n",
              "      <td>439682584</td>\n",
              "      <td>9780439682589</td>\n",
              "      <td>eng</td>\n",
              "      <td>2690</td>\n",
              "      <td>41428</td>\n",
              "      <td>164</td>\n",
              "      <td>9/13/2004</td>\n",
              "      <td>Scholastic</td>\n",
              "      <td>NaN</td>\n",
              "    </tr>\n",
              "  </tbody>\n",
              "</table>\n",
              "</div>"
            ],
            "text/plain": [
              "   bookID  ... Unnamed: 12\n",
              "0       1  ...         NaN\n",
              "1       2  ...         NaN\n",
              "2       4  ...         NaN\n",
              "3       5  ...         NaN\n",
              "4       8  ...         NaN\n",
              "\n",
              "[5 rows x 13 columns]"
            ]
          },
          "metadata": {
            "tags": []
          },
          "execution_count": 179
        }
      ]
    },
    {
      "cell_type": "code",
      "metadata": {
        "colab": {
          "base_uri": "https://localhost:8080/",
          "height": 320
        },
        "id": "o0K-HJUMNMc7",
        "outputId": "03f5bc11-9450-4a9b-b398-c5812c93f5c7"
      },
      "source": [
        "# Let's clean the table\n",
        "df = df.iloc[:,:-1]\n",
        "# We will make bookID the index\n",
        "df = df.set_index('bookID')\n",
        "df = df.sort_index(ascending=True)\n",
        "df.head()"
      ],
      "execution_count": 180,
      "outputs": [
        {
          "output_type": "execute_result",
          "data": {
            "text/html": [
              "<div>\n",
              "<style scoped>\n",
              "    .dataframe tbody tr th:only-of-type {\n",
              "        vertical-align: middle;\n",
              "    }\n",
              "\n",
              "    .dataframe tbody tr th {\n",
              "        vertical-align: top;\n",
              "    }\n",
              "\n",
              "    .dataframe thead th {\n",
              "        text-align: right;\n",
              "    }\n",
              "</style>\n",
              "<table border=\"1\" class=\"dataframe\">\n",
              "  <thead>\n",
              "    <tr style=\"text-align: right;\">\n",
              "      <th></th>\n",
              "      <th>title</th>\n",
              "      <th>authors</th>\n",
              "      <th>average_rating</th>\n",
              "      <th>isbn</th>\n",
              "      <th>isbn13</th>\n",
              "      <th>language_code</th>\n",
              "      <th>num_pages</th>\n",
              "      <th>ratings_count</th>\n",
              "      <th>text_reviews_count</th>\n",
              "      <th>publication_date</th>\n",
              "      <th>publisher</th>\n",
              "    </tr>\n",
              "    <tr>\n",
              "      <th>bookID</th>\n",
              "      <th></th>\n",
              "      <th></th>\n",
              "      <th></th>\n",
              "      <th></th>\n",
              "      <th></th>\n",
              "      <th></th>\n",
              "      <th></th>\n",
              "      <th></th>\n",
              "      <th></th>\n",
              "      <th></th>\n",
              "      <th></th>\n",
              "    </tr>\n",
              "  </thead>\n",
              "  <tbody>\n",
              "    <tr>\n",
              "      <th>1</th>\n",
              "      <td>Harry Potter and the Half-Blood Prince (Harry ...</td>\n",
              "      <td>J.K. Rowling/Mary GrandPré</td>\n",
              "      <td>4.57</td>\n",
              "      <td>439785960</td>\n",
              "      <td>9780439785969</td>\n",
              "      <td>eng</td>\n",
              "      <td>652</td>\n",
              "      <td>2095690</td>\n",
              "      <td>27591</td>\n",
              "      <td>9/16/2006</td>\n",
              "      <td>Scholastic Inc.</td>\n",
              "    </tr>\n",
              "    <tr>\n",
              "      <th>2</th>\n",
              "      <td>Harry Potter and the Order of the Phoenix (Har...</td>\n",
              "      <td>J.K. Rowling/Mary GrandPré</td>\n",
              "      <td>4.49</td>\n",
              "      <td>439358078</td>\n",
              "      <td>9780439358071</td>\n",
              "      <td>eng</td>\n",
              "      <td>870</td>\n",
              "      <td>2153167</td>\n",
              "      <td>29221</td>\n",
              "      <td>9/1/2004</td>\n",
              "      <td>Scholastic Inc.</td>\n",
              "    </tr>\n",
              "    <tr>\n",
              "      <th>4</th>\n",
              "      <td>Harry Potter and the Chamber of Secrets (Harry...</td>\n",
              "      <td>J.K. Rowling</td>\n",
              "      <td>4.42</td>\n",
              "      <td>439554896</td>\n",
              "      <td>9780439554893</td>\n",
              "      <td>eng</td>\n",
              "      <td>352</td>\n",
              "      <td>6333</td>\n",
              "      <td>244</td>\n",
              "      <td>11/1/2003</td>\n",
              "      <td>Scholastic</td>\n",
              "    </tr>\n",
              "    <tr>\n",
              "      <th>5</th>\n",
              "      <td>Harry Potter and the Prisoner of Azkaban (Harr...</td>\n",
              "      <td>J.K. Rowling/Mary GrandPré</td>\n",
              "      <td>4.56</td>\n",
              "      <td>043965548X</td>\n",
              "      <td>9780439655484</td>\n",
              "      <td>eng</td>\n",
              "      <td>435</td>\n",
              "      <td>2339585</td>\n",
              "      <td>36325</td>\n",
              "      <td>5/1/2004</td>\n",
              "      <td>Scholastic Inc.</td>\n",
              "    </tr>\n",
              "    <tr>\n",
              "      <th>8</th>\n",
              "      <td>Harry Potter Boxed Set  Books 1-5 (Harry Potte...</td>\n",
              "      <td>J.K. Rowling/Mary GrandPré</td>\n",
              "      <td>4.78</td>\n",
              "      <td>439682584</td>\n",
              "      <td>9780439682589</td>\n",
              "      <td>eng</td>\n",
              "      <td>2690</td>\n",
              "      <td>41428</td>\n",
              "      <td>164</td>\n",
              "      <td>9/13/2004</td>\n",
              "      <td>Scholastic</td>\n",
              "    </tr>\n",
              "  </tbody>\n",
              "</table>\n",
              "</div>"
            ],
            "text/plain": [
              "                                                    title  ...        publisher\n",
              "bookID                                                     ...                 \n",
              "1       Harry Potter and the Half-Blood Prince (Harry ...  ...  Scholastic Inc.\n",
              "2       Harry Potter and the Order of the Phoenix (Har...  ...  Scholastic Inc.\n",
              "4       Harry Potter and the Chamber of Secrets (Harry...  ...       Scholastic\n",
              "5       Harry Potter and the Prisoner of Azkaban (Harr...  ...  Scholastic Inc.\n",
              "8       Harry Potter Boxed Set  Books 1-5 (Harry Potte...  ...       Scholastic\n",
              "\n",
              "[5 rows x 11 columns]"
            ]
          },
          "metadata": {
            "tags": []
          },
          "execution_count": 180
        }
      ]
    },
    {
      "cell_type": "code",
      "metadata": {
        "id": "VMwLS98bPCE7"
      },
      "source": [
        "# Assumptions:\n",
        "# A high average rating is one above 4 stars\n",
        "# We will base popularity of a book on ratings count because more ratings mean more popularity.\n",
        "# After looking further into this dataset, I realize that there are some books written in more than once because they have different publishers or they are in a different language. \n",
        "# This means the same book may have more review counts than what is seen initially since the same book will be in this data set more than once, but from a different publisher.\n",
        "# Thus, in this analysis we will assume that each title is different if it is published by more than one publisher. In other words, we will assume that the title of a book and it's \n",
        "# publisher is independent from other similar titles (even if it's the same book). \n",
        "# This same assumption applies to books written in more than one langauge.\n",
        "# Also, the author's may have written the same book with different illustrators which also may impact the finidings. So, we will assume each pair is independent again."
      ],
      "execution_count": 181,
      "outputs": []
    },
    {
      "cell_type": "code",
      "metadata": {
        "colab": {
          "base_uri": "https://localhost:8080/"
        },
        "id": "j-M3dt77urcv",
        "outputId": "fd6d0dc6-5161-4207-c09a-9a8553bfdb21"
      },
      "source": [
        "# Let's explore the data!\n",
        "# Total Number of Ratings\n",
        "total_ratings = np.sum(df['ratings_count'])\n",
        "print(total_ratings)"
      ],
      "execution_count": 182,
      "outputs": [
        {
          "output_type": "stream",
          "text": [
            "199579326\n"
          ],
          "name": "stdout"
        }
      ]
    },
    {
      "cell_type": "code",
      "metadata": {
        "colab": {
          "base_uri": "https://localhost:8080/"
        },
        "id": "fDVy8z_Mvvo1",
        "outputId": "f9d35848-178a-4214-98e2-6f3629253b95"
      },
      "source": [
        "# Total Number of Unique Books by Publisher\n",
        "total_books = df.title.count()\n",
        "print(total_books)"
      ],
      "execution_count": 183,
      "outputs": [
        {
          "output_type": "stream",
          "text": [
            "11127\n"
          ],
          "name": "stdout"
        }
      ]
    },
    {
      "cell_type": "code",
      "metadata": {
        "colab": {
          "base_uri": "https://localhost:8080/"
        },
        "id": "LGPpY8aNwT10",
        "outputId": "5826a5a8-b165-4dc8-f6f2-f21fb34cd8d2"
      },
      "source": [
        "# Shape of the DataFrame\n",
        "shape_df = df.shape\n",
        "print(shape_df)"
      ],
      "execution_count": 184,
      "outputs": [
        {
          "output_type": "stream",
          "text": [
            "(11127, 11)\n"
          ],
          "name": "stdout"
        }
      ]
    },
    {
      "cell_type": "code",
      "metadata": {
        "colab": {
          "base_uri": "https://localhost:8080/",
          "height": 645
        },
        "id": "yy1B8SzbTlPw",
        "outputId": "ba19872d-ad78-40d0-e4fd-c74e42755910"
      },
      "source": [
        "# Question 1: What books are the most highly rated from all time?\n",
        "# We will base this question off the number of ratings counted and the average_rating\n",
        "# To see how highly rated a book is, we will look for the books with the highest ratings count and the highest average rating.\n",
        "df1 = df.sort_values(by='ratings_count', ascending= False)\n",
        "df1.head(10)\n",
        "# It is obvious that \"Twilight\" by Stephenie Meyer and published by \"Little Brown and Company\" has the greatest number of ratings, but the average rating isn't as high.\n",
        "# As we go down the rows, we seee \"The Hobbit or There and Back Again\" by J.R.R. Tolkien and published by \"Houghton Mifflin\" has both the greatest number of ratings and the average rating! \n",
        "# Thus, my hypothesis was wrong though other Harry Potter books appear near the top."
      ],
      "execution_count": 185,
      "outputs": [
        {
          "output_type": "execute_result",
          "data": {
            "text/html": [
              "<div>\n",
              "<style scoped>\n",
              "    .dataframe tbody tr th:only-of-type {\n",
              "        vertical-align: middle;\n",
              "    }\n",
              "\n",
              "    .dataframe tbody tr th {\n",
              "        vertical-align: top;\n",
              "    }\n",
              "\n",
              "    .dataframe thead th {\n",
              "        text-align: right;\n",
              "    }\n",
              "</style>\n",
              "<table border=\"1\" class=\"dataframe\">\n",
              "  <thead>\n",
              "    <tr style=\"text-align: right;\">\n",
              "      <th></th>\n",
              "      <th>title</th>\n",
              "      <th>authors</th>\n",
              "      <th>average_rating</th>\n",
              "      <th>isbn</th>\n",
              "      <th>isbn13</th>\n",
              "      <th>language_code</th>\n",
              "      <th>num_pages</th>\n",
              "      <th>ratings_count</th>\n",
              "      <th>text_reviews_count</th>\n",
              "      <th>publication_date</th>\n",
              "      <th>publisher</th>\n",
              "    </tr>\n",
              "    <tr>\n",
              "      <th>bookID</th>\n",
              "      <th></th>\n",
              "      <th></th>\n",
              "      <th></th>\n",
              "      <th></th>\n",
              "      <th></th>\n",
              "      <th></th>\n",
              "      <th></th>\n",
              "      <th></th>\n",
              "      <th></th>\n",
              "      <th></th>\n",
              "      <th></th>\n",
              "    </tr>\n",
              "  </thead>\n",
              "  <tbody>\n",
              "    <tr>\n",
              "      <th>41865</th>\n",
              "      <td>Twilight (Twilight  #1)</td>\n",
              "      <td>Stephenie Meyer</td>\n",
              "      <td>3.59</td>\n",
              "      <td>316015849</td>\n",
              "      <td>9780316015844</td>\n",
              "      <td>eng</td>\n",
              "      <td>501</td>\n",
              "      <td>4597666</td>\n",
              "      <td>94265</td>\n",
              "      <td>9/6/2006</td>\n",
              "      <td>Little  Brown and Company</td>\n",
              "    </tr>\n",
              "    <tr>\n",
              "      <th>5907</th>\n",
              "      <td>The Hobbit  or There and Back Again</td>\n",
              "      <td>J.R.R. Tolkien</td>\n",
              "      <td>4.27</td>\n",
              "      <td>618260307</td>\n",
              "      <td>9780618260300</td>\n",
              "      <td>eng</td>\n",
              "      <td>366</td>\n",
              "      <td>2530894</td>\n",
              "      <td>32871</td>\n",
              "      <td>8/15/2002</td>\n",
              "      <td>Houghton Mifflin</td>\n",
              "    </tr>\n",
              "    <tr>\n",
              "      <th>5107</th>\n",
              "      <td>The Catcher in the Rye</td>\n",
              "      <td>J.D. Salinger</td>\n",
              "      <td>3.8</td>\n",
              "      <td>316769177</td>\n",
              "      <td>9780316769174</td>\n",
              "      <td>eng</td>\n",
              "      <td>277</td>\n",
              "      <td>2457092</td>\n",
              "      <td>43499</td>\n",
              "      <td>1/30/2001</td>\n",
              "      <td>Back Bay Books</td>\n",
              "    </tr>\n",
              "    <tr>\n",
              "      <th>960</th>\n",
              "      <td>Angels &amp; Demons (Robert Langdon  #1)</td>\n",
              "      <td>Dan Brown</td>\n",
              "      <td>3.89</td>\n",
              "      <td>1416524797</td>\n",
              "      <td>9781416524793</td>\n",
              "      <td>eng</td>\n",
              "      <td>736</td>\n",
              "      <td>2418736</td>\n",
              "      <td>21303</td>\n",
              "      <td>4/1/2006</td>\n",
              "      <td>Pocket Books</td>\n",
              "    </tr>\n",
              "    <tr>\n",
              "      <th>5</th>\n",
              "      <td>Harry Potter and the Prisoner of Azkaban (Harr...</td>\n",
              "      <td>J.K. Rowling/Mary GrandPré</td>\n",
              "      <td>4.56</td>\n",
              "      <td>043965548X</td>\n",
              "      <td>9780439655484</td>\n",
              "      <td>eng</td>\n",
              "      <td>435</td>\n",
              "      <td>2339585</td>\n",
              "      <td>36325</td>\n",
              "      <td>5/1/2004</td>\n",
              "      <td>Scholastic Inc.</td>\n",
              "    </tr>\n",
              "    <tr>\n",
              "      <th>15881</th>\n",
              "      <td>Harry Potter and the Chamber of Secrets (Harry...</td>\n",
              "      <td>J.K. Rowling/Mary GrandPré</td>\n",
              "      <td>4.42</td>\n",
              "      <td>439064864</td>\n",
              "      <td>9780439064866</td>\n",
              "      <td>eng</td>\n",
              "      <td>341</td>\n",
              "      <td>2293963</td>\n",
              "      <td>34692</td>\n",
              "      <td>6/2/1999</td>\n",
              "      <td>Arthur A. Levine Books / Scholastic Inc.</td>\n",
              "    </tr>\n",
              "    <tr>\n",
              "      <th>2</th>\n",
              "      <td>Harry Potter and the Order of the Phoenix (Har...</td>\n",
              "      <td>J.K. Rowling/Mary GrandPré</td>\n",
              "      <td>4.49</td>\n",
              "      <td>439358078</td>\n",
              "      <td>9780439358071</td>\n",
              "      <td>eng</td>\n",
              "      <td>870</td>\n",
              "      <td>2153167</td>\n",
              "      <td>29221</td>\n",
              "      <td>9/1/2004</td>\n",
              "      <td>Scholastic Inc.</td>\n",
              "    </tr>\n",
              "    <tr>\n",
              "      <th>34</th>\n",
              "      <td>The Fellowship of the Ring (The Lord of the Ri...</td>\n",
              "      <td>J.R.R. Tolkien</td>\n",
              "      <td>4.36</td>\n",
              "      <td>618346252</td>\n",
              "      <td>9780618346257</td>\n",
              "      <td>eng</td>\n",
              "      <td>398</td>\n",
              "      <td>2128944</td>\n",
              "      <td>13670</td>\n",
              "      <td>9/5/2003</td>\n",
              "      <td>Houghton Mifflin Harcourt</td>\n",
              "    </tr>\n",
              "    <tr>\n",
              "      <th>7613</th>\n",
              "      <td>Animal Farm</td>\n",
              "      <td>George Orwell/Boris Grabnar/Peter Škerl</td>\n",
              "      <td>3.93</td>\n",
              "      <td>452284244</td>\n",
              "      <td>9780452284241</td>\n",
              "      <td>eng</td>\n",
              "      <td>122</td>\n",
              "      <td>2111750</td>\n",
              "      <td>29677</td>\n",
              "      <td>5/6/2003</td>\n",
              "      <td>NAL</td>\n",
              "    </tr>\n",
              "    <tr>\n",
              "      <th>1</th>\n",
              "      <td>Harry Potter and the Half-Blood Prince (Harry ...</td>\n",
              "      <td>J.K. Rowling/Mary GrandPré</td>\n",
              "      <td>4.57</td>\n",
              "      <td>439785960</td>\n",
              "      <td>9780439785969</td>\n",
              "      <td>eng</td>\n",
              "      <td>652</td>\n",
              "      <td>2095690</td>\n",
              "      <td>27591</td>\n",
              "      <td>9/16/2006</td>\n",
              "      <td>Scholastic Inc.</td>\n",
              "    </tr>\n",
              "  </tbody>\n",
              "</table>\n",
              "</div>"
            ],
            "text/plain": [
              "                                                    title  ...                                 publisher\n",
              "bookID                                                     ...                                          \n",
              "41865                             Twilight (Twilight  #1)  ...                 Little  Brown and Company\n",
              "5907                  The Hobbit  or There and Back Again  ...                          Houghton Mifflin\n",
              "5107                               The Catcher in the Rye  ...                            Back Bay Books\n",
              "960                  Angels & Demons (Robert Langdon  #1)  ...                              Pocket Books\n",
              "5       Harry Potter and the Prisoner of Azkaban (Harr...  ...                           Scholastic Inc.\n",
              "15881   Harry Potter and the Chamber of Secrets (Harry...  ...  Arthur A. Levine Books / Scholastic Inc.\n",
              "2       Harry Potter and the Order of the Phoenix (Har...  ...                           Scholastic Inc.\n",
              "34      The Fellowship of the Ring (The Lord of the Ri...  ...                 Houghton Mifflin Harcourt\n",
              "7613                                          Animal Farm  ...                                       NAL\n",
              "1       Harry Potter and the Half-Blood Prince (Harry ...  ...                           Scholastic Inc.\n",
              "\n",
              "[10 rows x 11 columns]"
            ]
          },
          "metadata": {
            "tags": []
          },
          "execution_count": 185
        }
      ]
    },
    {
      "cell_type": "code",
      "metadata": {
        "colab": {
          "base_uri": "https://localhost:8080/",
          "height": 296
        },
        "id": "CNFSPDbzBZ1H",
        "outputId": "af1349fb-5d0a-4b19-e7b4-2e66ca0166e7"
      },
      "source": [
        "# Let's graph the top 10 books!\n",
        "df1[:10].plot.barh(x = 'title', y = 'ratings_count', color = 'mediumvioletred')\n",
        "plt.ylabel('Book Titles')\n",
        "plt.xlabel('Number of Ratings (in millions)')"
      ],
      "execution_count": 186,
      "outputs": [
        {
          "output_type": "execute_result",
          "data": {
            "text/plain": [
              "Text(0.5, 0, 'Number of Ratings (in millions)')"
            ]
          },
          "metadata": {
            "tags": []
          },
          "execution_count": 186
        },
        {
          "output_type": "display_data",
          "data": {
            "image/png": "[encoded data removed]",
            "text/plain": [
              "<Figure size 432x288 with 1 Axes>"
            ]
          },
          "metadata": {
            "tags": [],
            "needs_background": "light"
          }
        }
      ]
    },
    {
      "cell_type": "code",
      "metadata": {
        "colab": {
          "base_uri": "https://localhost:8080/",
          "height": 296
        },
        "id": "jWP0sj9ET8--",
        "outputId": "07450fb1-9e8c-45db-d51a-59f881082c12"
      },
      "source": [
        "# Convert average_rating to integer value and plot average rating\n",
        "df1[\"average_rating\"] = pd.to_numeric(df1[\"average_rating\"], errors='coerce')\n",
        "df1[:10].plot.barh(x = 'title', y = 'average_rating', color = 'mediumvioletred', legend = None)\n",
        "plt.ylabel('Book Title')\n",
        "plt.xlabel('Average Ratings')\n",
        "plt.xlim(0,5)"
      ],
      "execution_count": 187,
      "outputs": [
        {
          "output_type": "execute_result",
          "data": {
            "text/plain": [
              "(0.0, 5.0)"
            ]
          },
          "metadata": {
            "tags": []
          },
          "execution_count": 187
        },
        {
          "output_type": "display_data",
          "data": {
            "image/png": "[encoded data removed]",
            "text/plain": [
              "<Figure size 432x288 with 1 Axes>"
            ]
          },
          "metadata": {
            "tags": [],
            "needs_background": "light"
          }
        }
      ]
    },
    {
      "cell_type": "code",
      "metadata": {
        "colab": {
          "base_uri": "https://localhost:8080/",
          "height": 390
        },
        "id": "Re0DM5RccaZA",
        "outputId": "a70cb211-ce69-40b3-e7ed-2e04cf7c6e40"
      },
      "source": [
        "  # 2. What authors have the most overall ratings?\n",
        "  # Let's group by the authors to see who has the greatest ratings count! Of course it is important to keep in mind that some authors write more books than another. \n",
        "  groupedByAuthorDF = df.groupby(['authors']).sum('ratings_count')\n",
        "  groupedByAuthorDF = groupedByAuthorDF.sort_values(by='ratings_count', ascending= False)\n",
        "  groupedByAuthorDF.head(10)\n",
        "  # As we can see J.K. Rowling/Mary GrandPré (illustrator) have the greatest ratings count and follows them having the most popularity. This follows my hypothesis from the beginning. "
      ],
      "execution_count": 188,
      "outputs": [
        {
          "output_type": "execute_result",
          "data": {
            "text/html": [
              "<div>\n",
              "<style scoped>\n",
              "    .dataframe tbody tr th:only-of-type {\n",
              "        vertical-align: middle;\n",
              "    }\n",
              "\n",
              "    .dataframe tbody tr th {\n",
              "        vertical-align: top;\n",
              "    }\n",
              "\n",
              "    .dataframe thead th {\n",
              "        text-align: right;\n",
              "    }\n",
              "</style>\n",
              "<table border=\"1\" class=\"dataframe\">\n",
              "  <thead>\n",
              "    <tr style=\"text-align: right;\">\n",
              "      <th></th>\n",
              "      <th>ratings_count</th>\n",
              "      <th>text_reviews_count</th>\n",
              "    </tr>\n",
              "    <tr>\n",
              "      <th>authors</th>\n",
              "      <th></th>\n",
              "      <th></th>\n",
              "    </tr>\n",
              "  </thead>\n",
              "  <tbody>\n",
              "    <tr>\n",
              "      <th>J.K. Rowling/Mary GrandPré</th>\n",
              "      <td>8923980</td>\n",
              "      <td>128006</td>\n",
              "    </tr>\n",
              "    <tr>\n",
              "      <th>J.R.R. Tolkien</th>\n",
              "      <td>4776638</td>\n",
              "      <td>49090</td>\n",
              "    </tr>\n",
              "    <tr>\n",
              "      <th>Stephenie Meyer</th>\n",
              "      <td>4597666</td>\n",
              "      <td>94265</td>\n",
              "    </tr>\n",
              "    <tr>\n",
              "      <th>Dan Brown</th>\n",
              "      <td>4135380</td>\n",
              "      <td>60875</td>\n",
              "    </tr>\n",
              "    <tr>\n",
              "      <th>Nicholas Sparks</th>\n",
              "      <td>3048149</td>\n",
              "      <td>60426</td>\n",
              "    </tr>\n",
              "    <tr>\n",
              "      <th>Stephen King</th>\n",
              "      <td>2985634</td>\n",
              "      <td>55897</td>\n",
              "    </tr>\n",
              "    <tr>\n",
              "      <th>J.D. Salinger</th>\n",
              "      <td>2777908</td>\n",
              "      <td>52598</td>\n",
              "    </tr>\n",
              "    <tr>\n",
              "      <th>Rick Riordan</th>\n",
              "      <td>2413447</td>\n",
              "      <td>69769</td>\n",
              "    </tr>\n",
              "    <tr>\n",
              "      <th>George Orwell/Boris Grabnar/Peter Škerl</th>\n",
              "      <td>2111750</td>\n",
              "      <td>29677</td>\n",
              "    </tr>\n",
              "    <tr>\n",
              "      <th>John Steinbeck</th>\n",
              "      <td>2091579</td>\n",
              "      <td>41021</td>\n",
              "    </tr>\n",
              "  </tbody>\n",
              "</table>\n",
              "</div>"
            ],
            "text/plain": [
              "                                         ratings_count  text_reviews_count\n",
              "authors                                                                   \n",
              "J.K. Rowling/Mary GrandPré                     8923980              128006\n",
              "J.R.R. Tolkien                                 4776638               49090\n",
              "Stephenie Meyer                                4597666               94265\n",
              "Dan Brown                                      4135380               60875\n",
              "Nicholas Sparks                                3048149               60426\n",
              "Stephen King                                   2985634               55897\n",
              "J.D. Salinger                                  2777908               52598\n",
              "Rick Riordan                                   2413447               69769\n",
              "George Orwell/Boris Grabnar/Peter Škerl        2111750               29677\n",
              "John Steinbeck                                 2091579               41021"
            ]
          },
          "metadata": {
            "tags": []
          },
          "execution_count": 188
        }
      ]
    },
    {
      "cell_type": "code",
      "metadata": {
        "colab": {
          "base_uri": "https://localhost:8080/",
          "height": 296
        },
        "id": "X1AxaDh_hR8E",
        "outputId": "610b2490-fd33-421b-ff7c-cadae6200bc1"
      },
      "source": [
        "#Let's see a bar chart for the top 10 authors' ratings count!\n",
        "groupedByAuthorDF[:10].plot.barh(y = 'ratings_count', color=(0.9, 0.2, 0.5, 0.7))\n",
        "plt.ylabel('Authors')\n",
        "plt.xlabel('Number of Ratings (in millions)')\n",
        "# x axis in millions"
      ],
      "execution_count": 189,
      "outputs": [
        {
          "output_type": "execute_result",
          "data": {
            "text/plain": [
              "Text(0.5, 0, 'Number of Ratings (in millions)')"
            ]
          },
          "metadata": {
            "tags": []
          },
          "execution_count": 189
        },
        {
          "output_type": "display_data",
          "data": {
            "image/png": "[encoded data removed]",
            "text/plain": [
              "<Figure size 432x288 with 1 Axes>"
            ]
          },
          "metadata": {
            "tags": [],
            "needs_background": "light"
          }
        }
      ]
    },
    {
      "cell_type": "code",
      "metadata": {
        "colab": {
          "base_uri": "https://localhost:8080/",
          "height": 390
        },
        "id": "wavbnboRkDaF",
        "outputId": "85964855-326f-4bfa-b58e-36c7a44d8eaa"
      },
      "source": [
        "  # 3. Which publishers have published the most books?\n",
        "  # Let's group by publisher and count their works!\n",
        "  groupedByPublisherDF = df.groupby(['publisher']).agg(count=pd.NamedAgg(column='publisher', aggfunc='count')).sort_values(['count'], ascending = False)\n",
        "  groupedByPublisherDF.head(10)\n",
        "  # It looks like Vintage has published the most books and my hypothesis isn't even on the top 10 list! "
      ],
      "execution_count": 190,
      "outputs": [
        {
          "output_type": "execute_result",
          "data": {
            "text/html": [
              "<div>\n",
              "<style scoped>\n",
              "    .dataframe tbody tr th:only-of-type {\n",
              "        vertical-align: middle;\n",
              "    }\n",
              "\n",
              "    .dataframe tbody tr th {\n",
              "        vertical-align: top;\n",
              "    }\n",
              "\n",
              "    .dataframe thead th {\n",
              "        text-align: right;\n",
              "    }\n",
              "</style>\n",
              "<table border=\"1\" class=\"dataframe\">\n",
              "  <thead>\n",
              "    <tr style=\"text-align: right;\">\n",
              "      <th></th>\n",
              "      <th>count</th>\n",
              "    </tr>\n",
              "    <tr>\n",
              "      <th>publisher</th>\n",
              "      <th></th>\n",
              "    </tr>\n",
              "  </thead>\n",
              "  <tbody>\n",
              "    <tr>\n",
              "      <th>Vintage</th>\n",
              "      <td>318</td>\n",
              "    </tr>\n",
              "    <tr>\n",
              "      <th>Penguin Books</th>\n",
              "      <td>261</td>\n",
              "    </tr>\n",
              "    <tr>\n",
              "      <th>Penguin Classics</th>\n",
              "      <td>184</td>\n",
              "    </tr>\n",
              "    <tr>\n",
              "      <th>Mariner Books</th>\n",
              "      <td>150</td>\n",
              "    </tr>\n",
              "    <tr>\n",
              "      <th>Ballantine Books</th>\n",
              "      <td>144</td>\n",
              "    </tr>\n",
              "    <tr>\n",
              "      <th>HarperCollins</th>\n",
              "      <td>112</td>\n",
              "    </tr>\n",
              "    <tr>\n",
              "      <th>Harper Perennial</th>\n",
              "      <td>112</td>\n",
              "    </tr>\n",
              "    <tr>\n",
              "      <th>Pocket Books</th>\n",
              "      <td>111</td>\n",
              "    </tr>\n",
              "    <tr>\n",
              "      <th>Bantam</th>\n",
              "      <td>110</td>\n",
              "    </tr>\n",
              "    <tr>\n",
              "      <th>VIZ Media LLC</th>\n",
              "      <td>88</td>\n",
              "    </tr>\n",
              "  </tbody>\n",
              "</table>\n",
              "</div>"
            ],
            "text/plain": [
              "                  count\n",
              "publisher              \n",
              "Vintage             318\n",
              "Penguin Books       261\n",
              "Penguin Classics    184\n",
              "Mariner Books       150\n",
              "Ballantine Books    144\n",
              "HarperCollins       112\n",
              "Harper Perennial    112\n",
              "Pocket Books        111\n",
              "Bantam              110\n",
              "VIZ Media LLC        88"
            ]
          },
          "metadata": {
            "tags": []
          },
          "execution_count": 190
        }
      ]
    },
    {
      "cell_type": "code",
      "metadata": {
        "colab": {
          "base_uri": "https://localhost:8080/",
          "height": 111
        },
        "id": "RWrPcmqrubxr",
        "outputId": "9fe81a9c-639a-4165-d5c3-47eb99286308"
      },
      "source": [
        "  # Let's see how many books my hypothesis guess Scholatic Inc. Published\n",
        "  filtered_data = groupedByPublisherDF[groupedByPublisherDF.index == 'Scholastic Inc.']\n",
        "  filtered_data.head()\n",
        "  # My guess was far off"
      ],
      "execution_count": 191,
      "outputs": [
        {
          "output_type": "execute_result",
          "data": {
            "text/html": [
              "<div>\n",
              "<style scoped>\n",
              "    .dataframe tbody tr th:only-of-type {\n",
              "        vertical-align: middle;\n",
              "    }\n",
              "\n",
              "    .dataframe tbody tr th {\n",
              "        vertical-align: top;\n",
              "    }\n",
              "\n",
              "    .dataframe thead th {\n",
              "        text-align: right;\n",
              "    }\n",
              "</style>\n",
              "<table border=\"1\" class=\"dataframe\">\n",
              "  <thead>\n",
              "    <tr style=\"text-align: right;\">\n",
              "      <th></th>\n",
              "      <th>count</th>\n",
              "    </tr>\n",
              "    <tr>\n",
              "      <th>publisher</th>\n",
              "      <th></th>\n",
              "    </tr>\n",
              "  </thead>\n",
              "  <tbody>\n",
              "    <tr>\n",
              "      <th>Scholastic Inc.</th>\n",
              "      <td>13</td>\n",
              "    </tr>\n",
              "  </tbody>\n",
              "</table>\n",
              "</div>"
            ],
            "text/plain": [
              "                 count\n",
              "publisher             \n",
              "Scholastic Inc.     13"
            ]
          },
          "metadata": {
            "tags": []
          },
          "execution_count": 191
        }
      ]
    },
    {
      "cell_type": "code",
      "metadata": {
        "colab": {
          "base_uri": "https://localhost:8080/",
          "height": 558
        },
        "id": "zV7G_He2u_QS",
        "outputId": "5b19f7f6-c68e-48ec-f16b-78a387f1723a"
      },
      "source": [
        "# Let's see this difference in a graph: (top 10)\n",
        "groupedByPublisherDF[0:10].plot.barh(y = 'count', color=(0.9, 0.2, 0.5, 0.4))\n",
        "plt.xlabel('Book Count')\n",
        "plt.ylabel('Publishers')\n",
        "\n",
        "# My hypothesis:\n",
        "groupedByPublisherDF[165:170].plot.barh(y = 'count', color=(0.9, 0.2, 0.5, 0.4))\n",
        "plt.xlabel('Book Count')\n",
        "plt.ylabel('Publishers')\n",
        "plt.xlim(0,349)\n"
      ],
      "execution_count": 192,
      "outputs": [
        {
          "output_type": "execute_result",
          "data": {
            "text/plain": [
              "(0.0, 349.0)"
            ]
          },
          "metadata": {
            "tags": []
          },
          "execution_count": 192
        },
        {
          "output_type": "display_data",
          "data": {
            "image/png": "[encoded data removed]",
            "text/plain": [
              "<Figure size 432x288 with 1 Axes>"
            ]
          },
          "metadata": {
            "tags": [],
            "needs_background": "light"
          }
        },
        {
          "output_type": "display_data",
          "data": {
            "image/png": "[encoded data removed]",
            "text/plain": [
              "<Figure size 432x288 with 1 Axes>"
            ]
          },
          "metadata": {
            "tags": [],
            "needs_background": "light"
          }
        }
      ]
    },
    {
      "cell_type": "code",
      "metadata": {
        "colab": {
          "base_uri": "https://localhost:8080/",
          "height": 320
        },
        "id": "w1CbtHfC3kbD",
        "outputId": "dd400935-a8bf-4dfd-d6ee-43b3b759a45f"
      },
      "source": [
        "# 4. Which year has the most books published?\n",
        "# Let's convert publication_date column to a timestamp\n",
        "df['publication_date'] = pd.to_datetime(df['publication_date'],  errors='coerce')\n",
        "df.head()"
      ],
      "execution_count": 193,
      "outputs": [
        {
          "output_type": "execute_result",
          "data": {
            "text/html": [
              "<div>\n",
              "<style scoped>\n",
              "    .dataframe tbody tr th:only-of-type {\n",
              "        vertical-align: middle;\n",
              "    }\n",
              "\n",
              "    .dataframe tbody tr th {\n",
              "        vertical-align: top;\n",
              "    }\n",
              "\n",
              "    .dataframe thead th {\n",
              "        text-align: right;\n",
              "    }\n",
              "</style>\n",
              "<table border=\"1\" class=\"dataframe\">\n",
              "  <thead>\n",
              "    <tr style=\"text-align: right;\">\n",
              "      <th></th>\n",
              "      <th>title</th>\n",
              "      <th>authors</th>\n",
              "      <th>average_rating</th>\n",
              "      <th>isbn</th>\n",
              "      <th>isbn13</th>\n",
              "      <th>language_code</th>\n",
              "      <th>num_pages</th>\n",
              "      <th>ratings_count</th>\n",
              "      <th>text_reviews_count</th>\n",
              "      <th>publication_date</th>\n",
              "      <th>publisher</th>\n",
              "    </tr>\n",
              "    <tr>\n",
              "      <th>bookID</th>\n",
              "      <th></th>\n",
              "      <th></th>\n",
              "      <th></th>\n",
              "      <th></th>\n",
              "      <th></th>\n",
              "      <th></th>\n",
              "      <th></th>\n",
              "      <th></th>\n",
              "      <th></th>\n",
              "      <th></th>\n",
              "      <th></th>\n",
              "    </tr>\n",
              "  </thead>\n",
              "  <tbody>\n",
              "    <tr>\n",
              "      <th>1</th>\n",
              "      <td>Harry Potter and the Half-Blood Prince (Harry ...</td>\n",
              "      <td>J.K. Rowling/Mary GrandPré</td>\n",
              "      <td>4.57</td>\n",
              "      <td>439785960</td>\n",
              "      <td>9780439785969</td>\n",
              "      <td>eng</td>\n",
              "      <td>652</td>\n",
              "      <td>2095690</td>\n",
              "      <td>27591</td>\n",
              "      <td>2006-09-16</td>\n",
              "      <td>Scholastic Inc.</td>\n",
              "    </tr>\n",
              "    <tr>\n",
              "      <th>2</th>\n",
              "      <td>Harry Potter and the Order of the Phoenix (Har...</td>\n",
              "      <td>J.K. Rowling/Mary GrandPré</td>\n",
              "      <td>4.49</td>\n",
              "      <td>439358078</td>\n",
              "      <td>9780439358071</td>\n",
              "      <td>eng</td>\n",
              "      <td>870</td>\n",
              "      <td>2153167</td>\n",
              "      <td>29221</td>\n",
              "      <td>2004-09-01</td>\n",
              "      <td>Scholastic Inc.</td>\n",
              "    </tr>\n",
              "    <tr>\n",
              "      <th>4</th>\n",
              "      <td>Harry Potter and the Chamber of Secrets (Harry...</td>\n",
              "      <td>J.K. Rowling</td>\n",
              "      <td>4.42</td>\n",
              "      <td>439554896</td>\n",
              "      <td>9780439554893</td>\n",
              "      <td>eng</td>\n",
              "      <td>352</td>\n",
              "      <td>6333</td>\n",
              "      <td>244</td>\n",
              "      <td>2003-11-01</td>\n",
              "      <td>Scholastic</td>\n",
              "    </tr>\n",
              "    <tr>\n",
              "      <th>5</th>\n",
              "      <td>Harry Potter and the Prisoner of Azkaban (Harr...</td>\n",
              "      <td>J.K. Rowling/Mary GrandPré</td>\n",
              "      <td>4.56</td>\n",
              "      <td>043965548X</td>\n",
              "      <td>9780439655484</td>\n",
              "      <td>eng</td>\n",
              "      <td>435</td>\n",
              "      <td>2339585</td>\n",
              "      <td>36325</td>\n",
              "      <td>2004-05-01</td>\n",
              "      <td>Scholastic Inc.</td>\n",
              "    </tr>\n",
              "    <tr>\n",
              "      <th>8</th>\n",
              "      <td>Harry Potter Boxed Set  Books 1-5 (Harry Potte...</td>\n",
              "      <td>J.K. Rowling/Mary GrandPré</td>\n",
              "      <td>4.78</td>\n",
              "      <td>439682584</td>\n",
              "      <td>9780439682589</td>\n",
              "      <td>eng</td>\n",
              "      <td>2690</td>\n",
              "      <td>41428</td>\n",
              "      <td>164</td>\n",
              "      <td>2004-09-13</td>\n",
              "      <td>Scholastic</td>\n",
              "    </tr>\n",
              "  </tbody>\n",
              "</table>\n",
              "</div>"
            ],
            "text/plain": [
              "                                                    title  ...        publisher\n",
              "bookID                                                     ...                 \n",
              "1       Harry Potter and the Half-Blood Prince (Harry ...  ...  Scholastic Inc.\n",
              "2       Harry Potter and the Order of the Phoenix (Har...  ...  Scholastic Inc.\n",
              "4       Harry Potter and the Chamber of Secrets (Harry...  ...       Scholastic\n",
              "5       Harry Potter and the Prisoner of Azkaban (Harr...  ...  Scholastic Inc.\n",
              "8       Harry Potter Boxed Set  Books 1-5 (Harry Potte...  ...       Scholastic\n",
              "\n",
              "[5 rows x 11 columns]"
            ]
          },
          "metadata": {
            "tags": []
          },
          "execution_count": 193
        }
      ]
    },
    {
      "cell_type": "code",
      "metadata": {
        "colab": {
          "base_uri": "https://localhost:8080/",
          "height": 390
        },
        "id": "0ZF3d2EB5I3u",
        "outputId": "697918ee-b616-47aa-f35a-f19afc5412c4"
      },
      "source": [
        "# Let's look at the number of books published each year over time!\n",
        "groupedByYearDF = df.groupby([df.publication_date.dt.year]).agg(count=pd.NamedAgg(column='publication_date', aggfunc='count')).sort_values(['count'], ascending = False)\n",
        "groupedByYearDF.head(10)\n",
        "# It looks like the year 2006 had the most publications! "
      ],
      "execution_count": 194,
      "outputs": [
        {
          "output_type": "execute_result",
          "data": {
            "text/html": [
              "<div>\n",
              "<style scoped>\n",
              "    .dataframe tbody tr th:only-of-type {\n",
              "        vertical-align: middle;\n",
              "    }\n",
              "\n",
              "    .dataframe tbody tr th {\n",
              "        vertical-align: top;\n",
              "    }\n",
              "\n",
              "    .dataframe thead th {\n",
              "        text-align: right;\n",
              "    }\n",
              "</style>\n",
              "<table border=\"1\" class=\"dataframe\">\n",
              "  <thead>\n",
              "    <tr style=\"text-align: right;\">\n",
              "      <th></th>\n",
              "      <th>count</th>\n",
              "    </tr>\n",
              "    <tr>\n",
              "      <th>publication_date</th>\n",
              "      <th></th>\n",
              "    </tr>\n",
              "  </thead>\n",
              "  <tbody>\n",
              "    <tr>\n",
              "      <th>2006.0</th>\n",
              "      <td>1700</td>\n",
              "    </tr>\n",
              "    <tr>\n",
              "      <th>2005.0</th>\n",
              "      <td>1260</td>\n",
              "    </tr>\n",
              "    <tr>\n",
              "      <th>2004.0</th>\n",
              "      <td>1069</td>\n",
              "    </tr>\n",
              "    <tr>\n",
              "      <th>2003.0</th>\n",
              "      <td>931</td>\n",
              "    </tr>\n",
              "    <tr>\n",
              "      <th>2002.0</th>\n",
              "      <td>798</td>\n",
              "    </tr>\n",
              "    <tr>\n",
              "      <th>2001.0</th>\n",
              "      <td>656</td>\n",
              "    </tr>\n",
              "    <tr>\n",
              "      <th>2000.0</th>\n",
              "      <td>533</td>\n",
              "    </tr>\n",
              "    <tr>\n",
              "      <th>2007.0</th>\n",
              "      <td>518</td>\n",
              "    </tr>\n",
              "    <tr>\n",
              "      <th>1999.0</th>\n",
              "      <td>450</td>\n",
              "    </tr>\n",
              "    <tr>\n",
              "      <th>1998.0</th>\n",
              "      <td>396</td>\n",
              "    </tr>\n",
              "  </tbody>\n",
              "</table>\n",
              "</div>"
            ],
            "text/plain": [
              "                  count\n",
              "publication_date       \n",
              "2006.0             1700\n",
              "2005.0             1260\n",
              "2004.0             1069\n",
              "2003.0              931\n",
              "2002.0              798\n",
              "2001.0              656\n",
              "2000.0              533\n",
              "2007.0              518\n",
              "1999.0              450\n",
              "1998.0              396"
            ]
          },
          "metadata": {
            "tags": []
          },
          "execution_count": 194
        }
      ]
    },
    {
      "cell_type": "code",
      "metadata": {
        "colab": {
          "base_uri": "https://localhost:8080/"
        },
        "id": "umxSLdEmvFwD",
        "outputId": "b152d64c-6e90-46c1-df1d-63ed7f243e24"
      },
      "source": [
        "# check:\n",
        "print(np.sum(groupedByPublisherDF['count']))"
      ],
      "execution_count": 195,
      "outputs": [
        {
          "output_type": "stream",
          "text": [
            "11127\n"
          ],
          "name": "stdout"
        }
      ]
    },
    {
      "cell_type": "code",
      "metadata": {
        "colab": {
          "base_uri": "https://localhost:8080/",
          "height": 296
        },
        "id": "X2OogfIeXnmw",
        "outputId": "c6ca617b-1baa-4959-d0bc-7ad260d847f7"
      },
      "source": [
        "# Let's graph this in a chart!\n",
        "groupedByYearDF = groupedByYearDF.sort_index()    # orders the years to prepare it for graphing\n",
        "groupedByYearDF.plot(y = ['count'], color=(0.9, 0.2, 0.5, 1))\n",
        "plt.xlabel('Year of Publication')\n",
        "plt.ylabel('Book Count')\n",
        "# It looks like little books were published before the late 1990s, but that can be because there is not enough data in this set."
      ],
      "execution_count": 196,
      "outputs": [
        {
          "output_type": "execute_result",
          "data": {
            "text/plain": [
              "Text(0, 0.5, 'Book Count')"
            ]
          },
          "metadata": {
            "tags": []
          },
          "execution_count": 196
        },
        {
          "output_type": "display_data",
          "data": {
            "image/png": "[encoded data removed]",
            "text/plain": [
              "<Figure size 432x288 with 1 Axes>"
            ]
          },
          "metadata": {
            "tags": [],
            "needs_background": "light"
          }
        }
      ]
    },
    {
      "cell_type": "code",
      "metadata": {
        "colab": {
          "base_uri": "https://localhost:8080/",
          "height": 296
        },
        "id": "WX9AKvOUh2LK",
        "outputId": "52c8727b-59c0-4996-bea3-6e973e901ae6"
      },
      "source": [
        "# Lets zoom in!\n",
        "groupedByYearDF = groupedByYearDF.sort_index()    # orders the years to prepare it for graphing\n",
        "groupedByYearDF[2000:2010].plot(y = ['count'], color=(0.9, 0.2, 0.5, 1))\n",
        "plt.xlabel('Year of Publication')\n",
        "plt.ylabel('Book Count')"
      ],
      "execution_count": 197,
      "outputs": [
        {
          "output_type": "execute_result",
          "data": {
            "text/plain": [
              "Text(0, 0.5, 'Book Count')"
            ]
          },
          "metadata": {
            "tags": []
          },
          "execution_count": 197
        },
        {
          "output_type": "display_data",
          "data": {
            "image/png": "[encoded data removed]",
            "text/plain": [
              "<Figure size 432x288 with 1 Axes>"
            ]
          },
          "metadata": {
            "tags": [],
            "needs_background": "light"
          }
        }
      ]
    }
  ]
}